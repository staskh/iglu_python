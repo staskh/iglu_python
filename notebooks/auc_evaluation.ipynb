{
 "cells": [
  {
   "cell_type": "markdown",
   "metadata": {},
   "source": [
    "# Evaluation of hourly AUC (Area Under Curve) results\n",
    "\n",
    "From ChatGPT:\n",
    "\n",
    "| Glycemic State     | Avg Glucose (mg/dL) | AUC (mg·min/dL per hour) |\n",
    "| ------------------ | ------------------- | ------------------------ |\n",
    "| Normal             | 80–100              | 4800–6000                |\n",
    "| Slightly elevated  | 100–140             | 6000–8400                |\n",
    "| Postprandial spike | 140–180             | 8400–10,800              |\n",
    "| Hyperglycemia      | >180                | >10,800                  |\n"
   ]
  },
  {
   "cell_type": "code",
   "execution_count": 1,
   "metadata": {},
   "outputs": [],
   "source": [
    "%reload_ext autoreload\n",
    "%autoreload 2\n",
    "\n",
    "test_data = \"../tests/data/example_data_5_subject.csv\""
   ]
  },
  {
   "cell_type": "markdown",
   "metadata": {},
   "source": [
    "# ChatGPT calculations  \n",
    "\n",
    "**Average Hourly AUC Per Subject (for test_data)**\n",
    "\n",
    "| Subject       | Average Hourly AUC | Interpretation                                                                                             |\n",
    "| ------------- | ------------------ | ---------------------------------------------------------------------------------------------------------- |\n",
    "| **Subject 1** | 6,241              | ✅ Near-normal range — mild elevation. Likely good glucose control.                                         |\n",
    "| **Subject 2** | 11,825             | 🔴 High AUC — consistent with **hyperglycemia**, possibly uncontrolled diabetes or postprandial spikes.    |\n",
    "| **Subject 3** | 8,043              | 🟠 Moderately elevated — suggests elevated average glucose, likely post-meal spikes or insulin resistance. |\n",
    "| **Subject 4** | 7,041              | 🟡 Slightly elevated — above normal but not extreme. Possibly impaired glucose tolerance.                  |\n",
    "| **Subject 5** | 9,302              | 🔴 High — consistent with sustained hyperglycemia; could indicate diabetes or poor control.                |\n",
    "\n",
    "\n",
    "\n",
    "\n"
   ]
  },
  {
   "cell_type": "markdown",
   "metadata": {},
   "source": [
    "# IGLU/IGLU-PY results"
   ]
  },
  {
   "cell_type": "code",
   "execution_count": null,
   "metadata": {},
   "outputs": [],
   "source": [
    "import sys\n",
    "from importlib.metadata import version\n",
    "\n",
    "import pandas as pd\n",
    "import rpy2.robjects as ro\n",
    "import iglu_py \n"
   ]
  },
  {
   "cell_type": "code",
   "execution_count": 3,
   "metadata": {},
   "outputs": [
    {
     "name": "stdout",
     "output_type": "stream",
     "text": [
      "Python version: 3.11.10 (main, Oct  3 2024, 02:26:51) [Clang 14.0.6 ]\n",
      "R version: [1] \"R version 4.4.3 (2025-02-28)\"\n",
      "\n",
      "iglu version: [1] ‘4.2.2’\n",
      "\n",
      "iglu_py version: 1.1.1\n",
      "rpy2 version: 3.6.0\n"
     ]
    }
   ],
   "source": [
    "# Print versions for future references\n",
    "print(f\"Python version: {sys.version}\")\n",
    "print(f\"R version: {ro.r('R.version.string')}\")\n",
    "iglu_version = str(ro.r('packageVersion(\"iglu\")'))\n",
    "print(f\"iglu version: {iglu_version}\")\n",
    "print(f\"iglu_py version: {version('iglu-py')}\")\n",
    "print(f\"rpy2 version: {version('rpy2')}\")"
   ]
  },
  {
   "cell_type": "code",
   "execution_count": 4,
   "metadata": {},
   "outputs": [
    {
     "data": {
      "text/html": [
       "<div>\n",
       "<style scoped>\n",
       "    .dataframe tbody tr th:only-of-type {\n",
       "        vertical-align: middle;\n",
       "    }\n",
       "\n",
       "    .dataframe tbody tr th {\n",
       "        vertical-align: top;\n",
       "    }\n",
       "\n",
       "    .dataframe thead th {\n",
       "        text-align: right;\n",
       "    }\n",
       "</style>\n",
       "<table border=\"1\" class=\"dataframe\">\n",
       "  <thead>\n",
       "    <tr style=\"text-align: right;\">\n",
       "      <th></th>\n",
       "      <th>id</th>\n",
       "      <th>hourly_auc</th>\n",
       "    </tr>\n",
       "  </thead>\n",
       "  <tbody>\n",
       "    <tr>\n",
       "      <th>1</th>\n",
       "      <td>Subject 1</td>\n",
       "      <td>123.0</td>\n",
       "    </tr>\n",
       "    <tr>\n",
       "      <th>2</th>\n",
       "      <td>Subject 2</td>\n",
       "      <td>218.0</td>\n",
       "    </tr>\n",
       "    <tr>\n",
       "      <th>3</th>\n",
       "      <td>Subject 3</td>\n",
       "      <td>154.0</td>\n",
       "    </tr>\n",
       "    <tr>\n",
       "      <th>4</th>\n",
       "      <td>Subject 4</td>\n",
       "      <td>130.0</td>\n",
       "    </tr>\n",
       "    <tr>\n",
       "      <th>5</th>\n",
       "      <td>Subject 5</td>\n",
       "      <td>174.0</td>\n",
       "    </tr>\n",
       "  </tbody>\n",
       "</table>\n",
       "</div>"
      ],
      "text/plain": [
       "          id  hourly_auc\n",
       "1  Subject 1       123.0\n",
       "2  Subject 2       218.0\n",
       "3  Subject 3       154.0\n",
       "4  Subject 4       130.0\n",
       "5  Subject 5       174.0"
      ]
     },
     "metadata": {},
     "output_type": "display_data"
    }
   ],
   "source": [
    "# load test data into DF\n",
    "df = pd.read_csv(test_data, index_col=0)\n",
    "\n",
    "auc_results = iglu_py.auc(df)\n",
    "auc_results =auc_results.round(0)\n",
    "display(auc_results)\n",
    "\n"
   ]
  },
  {
   "cell_type": "markdown",
   "metadata": {},
   "source": [
    "## Conclusions \n",
    "IGLU AUC calculations are substantially differ from expected ranges suggested by ChatGPT\n",
    "\n",
    "| Subject       | IGLU  | ChatGPT  |\n",
    "|:------------- | -----:| --------:|\n",
    "| Subject 1\t    | 123   | 6,241    |\n",
    "| Subject 2\t    | 218   | 11,825   |\n",
    "| Subject 3\t    | 154   | 8,043    |\n",
    "| Subject 4\t    | 130   | 7,041    |           \n",
    "| Subject 5\t    | 174   | 9,302    |"
   ]
  },
  {
   "cell_type": "markdown",
   "metadata": {},
   "source": [
    "# IGLU_PYTHON results"
   ]
  },
  {
   "cell_type": "code",
   "execution_count": 5,
   "metadata": {},
   "outputs": [],
   "source": [
    "# Add project directory to PYTHONPATH\n",
    "import sys\n",
    "import os\n",
    "sys.path.append(os.path.abspath('..'))"
   ]
  },
  {
   "cell_type": "code",
   "execution_count": 6,
   "metadata": {},
   "outputs": [
    {
     "data": {
      "text/html": [
       "<div>\n",
       "<style scoped>\n",
       "    .dataframe tbody tr th:only-of-type {\n",
       "        vertical-align: middle;\n",
       "    }\n",
       "\n",
       "    .dataframe tbody tr th {\n",
       "        vertical-align: top;\n",
       "    }\n",
       "\n",
       "    .dataframe thead th {\n",
       "        text-align: right;\n",
       "    }\n",
       "</style>\n",
       "<table border=\"1\" class=\"dataframe\">\n",
       "  <thead>\n",
       "    <tr style=\"text-align: right;\">\n",
       "      <th></th>\n",
       "      <th>id</th>\n",
       "      <th>hourly_auc</th>\n",
       "    </tr>\n",
       "  </thead>\n",
       "  <tbody>\n",
       "    <tr>\n",
       "      <th>0</th>\n",
       "      <td>Subject 1</td>\n",
       "      <td>7002.0</td>\n",
       "    </tr>\n",
       "    <tr>\n",
       "      <th>1</th>\n",
       "      <td>Subject 2</td>\n",
       "      <td>12902.0</td>\n",
       "    </tr>\n",
       "    <tr>\n",
       "      <th>2</th>\n",
       "      <td>Subject 3</td>\n",
       "      <td>8829.0</td>\n",
       "    </tr>\n",
       "    <tr>\n",
       "      <th>3</th>\n",
       "      <td>Subject 4</td>\n",
       "      <td>7751.0</td>\n",
       "    </tr>\n",
       "    <tr>\n",
       "      <th>4</th>\n",
       "      <td>Subject 5</td>\n",
       "      <td>10242.0</td>\n",
       "    </tr>\n",
       "  </tbody>\n",
       "</table>\n",
       "</div>"
      ],
      "text/plain": [
       "          id  hourly_auc\n",
       "0  Subject 1      7002.0\n",
       "1  Subject 2     12902.0\n",
       "2  Subject 3      8829.0\n",
       "3  Subject 4      7751.0\n",
       "4  Subject 5     10242.0"
      ]
     },
     "metadata": {},
     "output_type": "display_data"
    }
   ],
   "source": [
    "import pandas as pd\n",
    "import iglu_python\n",
    "\n",
    "# load test data into DF\n",
    "df = pd.read_csv(test_data, index_col=0)\n",
    "\n",
    "auc_results = iglu_python.auc(df)\n",
    "auc_results = auc_results.round(0)\n",
    "display(auc_results)\n",
    "\n",
    "\n",
    "\n"
   ]
  },
  {
   "cell_type": "markdown",
   "metadata": {},
   "source": [
    "## Conclusions  \n",
    "IGLU_PYTHON AUC calculations are substantially differ from IGLU calculations, but close to  ranges suggested by ChatGPT\n",
    "\n",
    "\n",
    "| Subject       | IGLU  | IGLU_PYTHON | ChatGPT  |\n",
    "|:------------- | -----:| -----------:| --------:|\n",
    "| Subject 1     |   123 |      7,002  |    6,241 |\n",
    "| Subject 2     |   218 |     12,902  |   11,825 |\n",
    "| Subject 3     |   154 |      8,829  |    8,043 |\n",
    "| Subject 4     |   130 |      7,751  |    7,041 |           \n",
    "| Subject 5     |   174 |     10,242  |    9,302 |\n"
   ]
  }
 ],
 "metadata": {
  "kernelspec": {
   "display_name": ".venv",
   "language": "python",
   "name": "python3"
  },
  "language_info": {
   "codemirror_mode": {
    "name": "ipython",
    "version": 3
   },
   "file_extension": ".py",
   "mimetype": "text/x-python",
   "name": "python",
   "nbconvert_exporter": "python",
   "pygments_lexer": "ipython3",
   "version": "3.11.10"
  }
 },
 "nbformat": 4,
 "nbformat_minor": 2
}
