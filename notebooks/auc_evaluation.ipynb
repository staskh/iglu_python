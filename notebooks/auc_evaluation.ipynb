{
 "cells": [
  {
   "cell_type": "markdown",
   "metadata": {},
   "source": [
    "# Evaluation of hourly AUC (Area Under Curve) results\n",
    "\n",
    "From ChatGPT:\n",
    "\n",
    "| Glycemic State     | Avg Glucose (mg/dL) | AUC (mg·min/dL per hour) |\n",
    "| ------------------ | ------------------- | ------------------------ |\n",
    "| Normal             | 80–100              | 4800–6000                |\n",
    "| Slightly elevated  | 100–140             | 6000–8400                |\n",
    "| Postprandial spike | 140–180             | 8400–10,800              |\n",
    "| Hyperglycemia      | >180                | >10,800                  |\n"
   ]
  },
  {
   "cell_type": "code",
   "execution_count": 1,
   "metadata": {},
   "outputs": [],
   "source": [
    "%reload_ext autoreload\n",
    "%autoreload 2\n",
    "\n",
    "test_data = \"../tests/data/example_data_5_subject.csv\""
   ]
  },
  {
   "cell_type": "markdown",
   "metadata": {},
   "source": [
    "# ChatGPT calculations  \n",
    "\n",
    "**Average Hourly AUC Per Subject (for test_data)**\n",
    "\n",
    "| Subject       | Average Hourly AUC (mg*min/dL) | Interpretation                                                                                             |\n",
    "| ------------- | ------------------ | ---------------------------------------------------------------------------------------------------------- |\n",
    "| **Subject 1** | 6,241              | ✅ Near-normal range — mild elevation. Likely good glucose control.                                         |\n",
    "| **Subject 2** | 11,825             | 🔴 High AUC — consistent with **hyperglycemia**, possibly uncontrolled diabetes or postprandial spikes.    |\n",
    "| **Subject 3** | 8,043              | 🟠 Moderately elevated — suggests elevated average glucose, likely post-meal spikes or insulin resistance. |\n",
    "| **Subject 4** | 7,041              | 🟡 Slightly elevated — above normal but not extreme. Possibly impaired glucose tolerance.                  |\n",
    "| **Subject 5** | 9,302              | 🔴 High — consistent with sustained hyperglycemia; could indicate diabetes or poor control.                |\n",
    "\n",
    "\n",
    "**NOTE:** ChatGpt reports AUC in mg.min/dL, while IGLU operates with mg.h/dL\n",
    "\n"
   ]
  },
  {
   "cell_type": "code",
   "execution_count": 2,
   "metadata": {},
   "outputs": [
    {
     "data": {
      "text/html": [
       "<div>\n",
       "<style scoped>\n",
       "    .dataframe tbody tr th:only-of-type {\n",
       "        vertical-align: middle;\n",
       "    }\n",
       "\n",
       "    .dataframe tbody tr th {\n",
       "        vertical-align: top;\n",
       "    }\n",
       "\n",
       "    .dataframe thead th {\n",
       "        text-align: right;\n",
       "    }\n",
       "</style>\n",
       "<table border=\"1\" class=\"dataframe\">\n",
       "  <thead>\n",
       "    <tr style=\"text-align: right;\">\n",
       "      <th></th>\n",
       "      <th>id</th>\n",
       "      <th>ChatGPT AUC (mg*min/dL)</th>\n",
       "      <th>ChatGPT AUC (mg*h/dL)</th>\n",
       "    </tr>\n",
       "  </thead>\n",
       "  <tbody>\n",
       "    <tr>\n",
       "      <th>0</th>\n",
       "      <td>Subject 1</td>\n",
       "      <td>6241</td>\n",
       "      <td>104.0</td>\n",
       "    </tr>\n",
       "    <tr>\n",
       "      <th>1</th>\n",
       "      <td>Subject 2</td>\n",
       "      <td>11825</td>\n",
       "      <td>197.0</td>\n",
       "    </tr>\n",
       "    <tr>\n",
       "      <th>2</th>\n",
       "      <td>Subject 3</td>\n",
       "      <td>8043</td>\n",
       "      <td>134.0</td>\n",
       "    </tr>\n",
       "    <tr>\n",
       "      <th>3</th>\n",
       "      <td>Subject 4</td>\n",
       "      <td>7041</td>\n",
       "      <td>117.0</td>\n",
       "    </tr>\n",
       "    <tr>\n",
       "      <th>4</th>\n",
       "      <td>Subject 5</td>\n",
       "      <td>9302</td>\n",
       "      <td>155.0</td>\n",
       "    </tr>\n",
       "  </tbody>\n",
       "</table>\n",
       "</div>"
      ],
      "text/plain": [
       "          id  ChatGPT AUC (mg*min/dL)  ChatGPT AUC (mg*h/dL)\n",
       "0  Subject 1                     6241                  104.0\n",
       "1  Subject 2                    11825                  197.0\n",
       "2  Subject 3                     8043                  134.0\n",
       "3  Subject 4                     7041                  117.0\n",
       "4  Subject 5                     9302                  155.0"
      ]
     },
     "metadata": {},
     "output_type": "display_data"
    }
   ],
   "source": [
    "import pandas as pd\n",
    "\n",
    "ChatGPT_results = pd.DataFrame(\n",
    "    {\n",
    "        'id': ['Subject 1', 'Subject 2', 'Subject 3', 'Subject 4', 'Subject 5'],\n",
    "        'ChatGPT AUC (mg*min/dL)': [6241, 11825, 8043, 7041, 9302],\n",
    "    }\n",
    ")\n",
    "ChatGPT_results['ChatGPT AUC (mg*h/dL)'] = (ChatGPT_results['ChatGPT AUC (mg*min/dL)'] / 60).round(0)\n",
    "\n",
    "display(ChatGPT_results)"
   ]
  },
  {
   "cell_type": "markdown",
   "metadata": {},
   "source": [
    "# IGLU/IGLU-PY results\n",
    "\n",
    "**NOTE:** IGLU reports AUC in mg.h/dL\n"
   ]
  },
  {
   "cell_type": "code",
   "execution_count": null,
   "metadata": {},
   "outputs": [],
   "source": [
    "import sys\n",
    "from importlib.metadata import version\n",
    "\n",
    "import iglu_py\n",
    "import pandas as pd\n",
    "import rpy2.robjects as ro\n"
   ]
  },
  {
   "cell_type": "code",
   "execution_count": 4,
   "metadata": {},
   "outputs": [
    {
     "name": "stdout",
     "output_type": "stream",
     "text": [
      "Python version: 3.11.10 (main, Oct  3 2024, 02:26:51) [Clang 14.0.6 ]\n",
      "R version: [1] \"R version 4.4.3 (2025-02-28)\"\n",
      "\n",
      "iglu version: [1] ‘4.2.2’\n",
      "\n",
      "iglu_py version: 1.1.1\n",
      "rpy2 version: 3.6.0\n"
     ]
    }
   ],
   "source": [
    "# Print versions for future references\n",
    "print(f\"Python version: {sys.version}\")\n",
    "print(f\"R version: {ro.r('R.version.string')}\")\n",
    "iglu_version = str(ro.r('packageVersion(\"iglu\")'))\n",
    "print(f\"iglu version: {iglu_version}\")\n",
    "print(f\"iglu_py version: {version('iglu-py')}\")\n",
    "print(f\"rpy2 version: {version('rpy2')}\")"
   ]
  },
  {
   "cell_type": "markdown",
   "metadata": {},
   "source": [
    "## Test on synthetic data\n",
    "\n",
    "- Samples - every 5 min\n",
    "- duration - 1h\n",
    "- values [80,120] repeated for sampling duration\n",
    "\n",
    "Expected hourly AUC = 100 mg.h/dL"
   ]
  },
  {
   "cell_type": "code",
   "execution_count": 5,
   "metadata": {},
   "outputs": [
    {
     "data": {
      "text/html": [
       "<div>\n",
       "<style scoped>\n",
       "    .dataframe tbody tr th:only-of-type {\n",
       "        vertical-align: middle;\n",
       "    }\n",
       "\n",
       "    .dataframe tbody tr th {\n",
       "        vertical-align: top;\n",
       "    }\n",
       "\n",
       "    .dataframe thead th {\n",
       "        text-align: right;\n",
       "    }\n",
       "</style>\n",
       "<table border=\"1\" class=\"dataframe\">\n",
       "  <thead>\n",
       "    <tr style=\"text-align: right;\">\n",
       "      <th></th>\n",
       "      <th>id</th>\n",
       "      <th>hourly_auc</th>\n",
       "    </tr>\n",
       "  </thead>\n",
       "  <tbody>\n",
       "    <tr>\n",
       "      <th>1</th>\n",
       "      <td>subject1</td>\n",
       "      <td>102.222222</td>\n",
       "    </tr>\n",
       "  </tbody>\n",
       "</table>\n",
       "</div>"
      ],
      "text/plain": [
       "         id  hourly_auc\n",
       "1  subject1  102.222222"
      ]
     },
     "execution_count": 5,
     "metadata": {},
     "output_type": "execute_result"
    }
   ],
   "source": [
    "hours = 1\n",
    "dt0 = 5\n",
    "samples = int(hours*60/dt0)\n",
    "times = pd.date_range('2020-01-01', periods=samples, freq=f\"{dt0}min\")\n",
    "glucose_values = [80,120]* int(samples/2)\n",
    "\n",
    "syntheticdata = pd.DataFrame({\n",
    "    'id': ['subject1'] * samples,\n",
    "    'time': times,\n",
    "    'gl': glucose_values\n",
    "})\n",
    "\n",
    "synthetic_iglu_auc_results  = iglu_py.auc(syntheticdata)\n",
    "synthetic_iglu_auc_results"
   ]
  },
  {
   "cell_type": "markdown",
   "metadata": {},
   "source": [
    "**Note:** Incorrect AUC calculation is a result of CGMS2DayByDay function bugs:\n",
    "- one sample shift in interpolation - results in 11 samples instead of 12\n",
    "- actual_dates returns 2 dates instead of one\n",
    "\n",
    "Additional suspicious code is in AUC itself: `day = rep(data_ip[[2]], 1440/dt0),` - IMHO it resample sequential gl to different days, instead of sequential sampling for each day before sampling for the next \n"
   ]
  },
  {
   "cell_type": "markdown",
   "metadata": {},
   "source": [
    "## Test on example data  "
   ]
  },
  {
   "cell_type": "code",
   "execution_count": 6,
   "metadata": {},
   "outputs": [
    {
     "data": {
      "text/html": [
       "<div>\n",
       "<style scoped>\n",
       "    .dataframe tbody tr th:only-of-type {\n",
       "        vertical-align: middle;\n",
       "    }\n",
       "\n",
       "    .dataframe tbody tr th {\n",
       "        vertical-align: top;\n",
       "    }\n",
       "\n",
       "    .dataframe thead th {\n",
       "        text-align: right;\n",
       "    }\n",
       "</style>\n",
       "<table border=\"1\" class=\"dataframe\">\n",
       "  <thead>\n",
       "    <tr style=\"text-align: right;\">\n",
       "      <th></th>\n",
       "      <th>id</th>\n",
       "      <th>IGLU AUC (mg*h/dL)</th>\n",
       "      <th>ChatGPT AUC (mg*h/dL)</th>\n",
       "      <th>Difference (%)</th>\n",
       "    </tr>\n",
       "  </thead>\n",
       "  <tbody>\n",
       "    <tr>\n",
       "      <th>0</th>\n",
       "      <td>Subject 1</td>\n",
       "      <td>123.0</td>\n",
       "      <td>104.0</td>\n",
       "      <td>18.3</td>\n",
       "    </tr>\n",
       "    <tr>\n",
       "      <th>1</th>\n",
       "      <td>Subject 2</td>\n",
       "      <td>218.0</td>\n",
       "      <td>197.0</td>\n",
       "      <td>10.7</td>\n",
       "    </tr>\n",
       "    <tr>\n",
       "      <th>2</th>\n",
       "      <td>Subject 3</td>\n",
       "      <td>154.0</td>\n",
       "      <td>134.0</td>\n",
       "      <td>14.9</td>\n",
       "    </tr>\n",
       "    <tr>\n",
       "      <th>3</th>\n",
       "      <td>Subject 4</td>\n",
       "      <td>130.0</td>\n",
       "      <td>117.0</td>\n",
       "      <td>11.1</td>\n",
       "    </tr>\n",
       "    <tr>\n",
       "      <th>4</th>\n",
       "      <td>Subject 5</td>\n",
       "      <td>174.0</td>\n",
       "      <td>155.0</td>\n",
       "      <td>12.3</td>\n",
       "    </tr>\n",
       "  </tbody>\n",
       "</table>\n",
       "</div>"
      ],
      "text/plain": [
       "          id  IGLU AUC (mg*h/dL)  ChatGPT AUC (mg*h/dL)  Difference (%)\n",
       "0  Subject 1               123.0                  104.0            18.3\n",
       "1  Subject 2               218.0                  197.0            10.7\n",
       "2  Subject 3               154.0                  134.0            14.9\n",
       "3  Subject 4               130.0                  117.0            11.1\n",
       "4  Subject 5               174.0                  155.0            12.3"
      ]
     },
     "metadata": {},
     "output_type": "display_data"
    }
   ],
   "source": [
    "test_data = \"../tests/data/example_data_5_subject.csv\"\n",
    "# load test data into DF\n",
    "df = pd.read_csv(test_data, index_col=0)\n",
    "\n",
    "iglu_auc_results  = iglu_py.auc(df)\n",
    "iglu_auc_results = iglu_auc_results.round(0)\n",
    "\n",
    "iglu_auc_results.rename(columns={'hourly_auc': 'IGLU AUC (mg*h/dL)'}, inplace=True)\n",
    "iglu_auc_results = pd.merge(iglu_auc_results, ChatGPT_results[['id', 'ChatGPT AUC (mg*h/dL)']], on='id', how='left')\n",
    "iglu_auc_results['Difference (%)'] = ((iglu_auc_results['IGLU AUC (mg*h/dL)'] - iglu_auc_results['ChatGPT AUC (mg*h/dL)']) / iglu_auc_results['ChatGPT AUC (mg*h/dL)'] * 100).round(1)\n",
    "\n",
    "\n",
    "display(iglu_auc_results)\n"
   ]
  },
  {
   "cell_type": "markdown",
   "metadata": {},
   "source": [
    "## Conclusions \n",
    "IGLU AUC calculations are substantially differ from expected ranges suggested by ChatGPT\n"
   ]
  },
  {
   "cell_type": "markdown",
   "metadata": {},
   "source": [
    "# IGLU_PYTHON results"
   ]
  },
  {
   "cell_type": "code",
   "execution_count": 7,
   "metadata": {},
   "outputs": [],
   "source": [
    "# Add project directory to PYTHONPATH\n",
    "import os\n",
    "import sys\n",
    "import pandas as pd\n",
    "sys.path.append(os.path.abspath('..'))\n",
    "import iglu_python\n"
   ]
  },
  {
   "cell_type": "markdown",
   "metadata": {},
   "source": [
    "## Test on synthetic data"
   ]
  },
  {
   "cell_type": "code",
   "execution_count": 8,
   "metadata": {},
   "outputs": [
    {
     "data": {
      "text/html": [
       "<div>\n",
       "<style scoped>\n",
       "    .dataframe tbody tr th:only-of-type {\n",
       "        vertical-align: middle;\n",
       "    }\n",
       "\n",
       "    .dataframe tbody tr th {\n",
       "        vertical-align: top;\n",
       "    }\n",
       "\n",
       "    .dataframe thead th {\n",
       "        text-align: right;\n",
       "    }\n",
       "</style>\n",
       "<table border=\"1\" class=\"dataframe\">\n",
       "  <thead>\n",
       "    <tr style=\"text-align: right;\">\n",
       "      <th></th>\n",
       "      <th>id</th>\n",
       "      <th>hourly_auc</th>\n",
       "    </tr>\n",
       "  </thead>\n",
       "  <tbody>\n",
       "    <tr>\n",
       "      <th>0</th>\n",
       "      <td>subject1</td>\n",
       "      <td>100.0</td>\n",
       "    </tr>\n",
       "  </tbody>\n",
       "</table>\n",
       "</div>"
      ],
      "text/plain": [
       "         id  hourly_auc\n",
       "0  subject1       100.0"
      ]
     },
     "execution_count": 8,
     "metadata": {},
     "output_type": "execute_result"
    }
   ],
   "source": [
    "synthetic_iglu_auc_results  = iglu_python.auc(syntheticdata)\n",
    "synthetic_iglu_auc_results"
   ]
  },
  {
   "cell_type": "markdown",
   "metadata": {},
   "source": [
    "**Note:** Result match expected"
   ]
  },
  {
   "cell_type": "markdown",
   "metadata": {},
   "source": [
    "## Test on Example data"
   ]
  },
  {
   "cell_type": "code",
   "execution_count": 9,
   "metadata": {},
   "outputs": [
    {
     "data": {
      "text/html": [
       "<div>\n",
       "<style scoped>\n",
       "    .dataframe tbody tr th:only-of-type {\n",
       "        vertical-align: middle;\n",
       "    }\n",
       "\n",
       "    .dataframe tbody tr th {\n",
       "        vertical-align: top;\n",
       "    }\n",
       "\n",
       "    .dataframe thead th {\n",
       "        text-align: right;\n",
       "    }\n",
       "</style>\n",
       "<table border=\"1\" class=\"dataframe\">\n",
       "  <thead>\n",
       "    <tr style=\"text-align: right;\">\n",
       "      <th></th>\n",
       "      <th>id</th>\n",
       "      <th>IGLU PYTHON AUC (mg*h/dL)</th>\n",
       "      <th>IGLU AUC (mg*h/dL)</th>\n",
       "      <th>ChatGPT AUC (mg*h/dL)</th>\n",
       "      <th>Difference to IGLU(%)</th>\n",
       "      <th>Difference to ChatGPt(%)</th>\n",
       "    </tr>\n",
       "  </thead>\n",
       "  <tbody>\n",
       "    <tr>\n",
       "      <th>0</th>\n",
       "      <td>Subject 1</td>\n",
       "      <td>123.0</td>\n",
       "      <td>123.0</td>\n",
       "      <td>104.0</td>\n",
       "      <td>0.0</td>\n",
       "      <td>18.3</td>\n",
       "    </tr>\n",
       "    <tr>\n",
       "      <th>1</th>\n",
       "      <td>Subject 2</td>\n",
       "      <td>219.0</td>\n",
       "      <td>218.0</td>\n",
       "      <td>197.0</td>\n",
       "      <td>0.5</td>\n",
       "      <td>11.2</td>\n",
       "    </tr>\n",
       "    <tr>\n",
       "      <th>2</th>\n",
       "      <td>Subject 3</td>\n",
       "      <td>154.0</td>\n",
       "      <td>154.0</td>\n",
       "      <td>134.0</td>\n",
       "      <td>0.0</td>\n",
       "      <td>14.9</td>\n",
       "    </tr>\n",
       "    <tr>\n",
       "      <th>3</th>\n",
       "      <td>Subject 4</td>\n",
       "      <td>130.0</td>\n",
       "      <td>130.0</td>\n",
       "      <td>117.0</td>\n",
       "      <td>0.0</td>\n",
       "      <td>11.1</td>\n",
       "    </tr>\n",
       "    <tr>\n",
       "      <th>4</th>\n",
       "      <td>Subject 5</td>\n",
       "      <td>175.0</td>\n",
       "      <td>174.0</td>\n",
       "      <td>155.0</td>\n",
       "      <td>0.6</td>\n",
       "      <td>12.9</td>\n",
       "    </tr>\n",
       "  </tbody>\n",
       "</table>\n",
       "</div>"
      ],
      "text/plain": [
       "          id  IGLU PYTHON AUC (mg*h/dL)  IGLU AUC (mg*h/dL)  \\\n",
       "0  Subject 1                      123.0               123.0   \n",
       "1  Subject 2                      219.0               218.0   \n",
       "2  Subject 3                      154.0               154.0   \n",
       "3  Subject 4                      130.0               130.0   \n",
       "4  Subject 5                      175.0               174.0   \n",
       "\n",
       "   ChatGPT AUC (mg*h/dL)  Difference to IGLU(%)  Difference to ChatGPt(%)  \n",
       "0                  104.0                    0.0                      18.3  \n",
       "1                  197.0                    0.5                      11.2  \n",
       "2                  134.0                    0.0                      14.9  \n",
       "3                  117.0                    0.0                      11.1  \n",
       "4                  155.0                    0.6                      12.9  "
      ]
     },
     "metadata": {},
     "output_type": "display_data"
    }
   ],
   "source": [
    "# load test data into DF\n",
    "df = pd.read_csv(test_data, index_col=0)\n",
    "\n",
    "iglu_python_auc_results = iglu_python.auc(df)\n",
    "iglu_python_auc_results = iglu_python_auc_results.round(0)\n",
    "\n",
    "iglu_python_auc_results.rename(columns={'hourly_auc': 'IGLU PYTHON AUC (mg*h/dL)'}, inplace=True)\n",
    "iglu_python_auc_results = pd.merge(iglu_python_auc_results, iglu_auc_results[['id', 'IGLU AUC (mg*h/dL)']], on='id', how='left')\n",
    "iglu_python_auc_results = pd.merge(iglu_python_auc_results, ChatGPT_results[['id', 'ChatGPT AUC (mg*h/dL)']], on='id', how='left')\n",
    "iglu_python_auc_results['Difference to IGLU(%)'] = ((iglu_python_auc_results['IGLU PYTHON AUC (mg*h/dL)'] - iglu_python_auc_results['IGLU AUC (mg*h/dL)']) / iglu_python_auc_results['IGLU AUC (mg*h/dL)'] * 100).round(1)\n",
    "iglu_python_auc_results['Difference to ChatGPt(%)'] = ((iglu_python_auc_results['IGLU PYTHON AUC (mg*h/dL)'] - iglu_python_auc_results['ChatGPT AUC (mg*h/dL)']) / iglu_python_auc_results['ChatGPT AUC (mg*h/dL)'] * 100).round(1)\n",
    "\n",
    "display(iglu_python_auc_results)\n"
   ]
  },
  {
   "cell_type": "markdown",
   "metadata": {},
   "source": [
    "## Conclusions  \n",
    "IGLU_PYTHON AUC calculations are close to IGLU calculations (-0.5%)\n",
    "\n"
   ]
  }
 ],
 "metadata": {
  "kernelspec": {
   "display_name": ".venv",
   "language": "python",
   "name": "python3"
  },
  "language_info": {
   "codemirror_mode": {
    "name": "ipython",
    "version": 3
   },
   "file_extension": ".py",
   "mimetype": "text/x-python",
   "name": "python",
   "nbconvert_exporter": "python",
   "pygments_lexer": "ipython3",
   "version": "3.11.10"
  }
 },
 "nbformat": 4,
 "nbformat_minor": 2
}
