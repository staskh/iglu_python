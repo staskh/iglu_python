{
 "cells": [
  {
   "cell_type": "markdown",
   "metadata": {},
   "source": [
    "This notebook documents and analyzes discrepancies between the Python and R implementations of IGLU.\n",
    "It contains test cases that demonstrate unexpected or questionable results from the R implementation."
   ]
  },
  {
   "cell_type": "code",
   "execution_count": 3,
   "metadata": {},
   "outputs": [],
   "source": [
    "import sys\n",
    "from importlib.metadata import version\n",
    "\n",
    "import pandas as pd\n",
    "import rpy2.robjects as ro\n",
    "from iglu_py import bridge"
   ]
  },
  {
   "cell_type": "code",
   "execution_count": 7,
   "metadata": {},
   "outputs": [
    {
     "name": "stdout",
     "output_type": "stream",
     "text": [
      "Python version: 3.11.10 (main, Oct  3 2024, 02:26:51) [Clang 14.0.6 ]\n",
      "R version: [1] \"R version 4.4.3 (2025-02-28)\"\n",
      "\n",
      "iglu version: [1] ‘4.2.2’\n",
      "\n",
      "iglu_py version: 1.1.1\n",
      "rpy2 version: 3.6.0\n"
     ]
    }
   ],
   "source": [
    "# Print versions for future references\n",
    "print(f\"Python version: {sys.version}\")\n",
    "print(f\"R version: {ro.r('R.version.string')}\")\n",
    "iglu_version = str(ro.r('packageVersion(\"iglu\")'))\n",
    "print(f\"iglu version: {iglu_version}\")\n",
    "print(f\"iglu_py version: {version('iglu-py')}\")\n",
    "print(f\"rpy2 version: {version('rpy2')}\")\n"
   ]
  },
  {
   "cell_type": "markdown",
   "metadata": {},
   "source": [
    "# CGMS2DayByDay Discrepancies      "
   ]
  },
  {
   "cell_type": "code",
   "execution_count": 11,
   "metadata": {},
   "outputs": [],
   "source": [
    "@bridge.df_conversion\n",
    "def my_CGMS2DayByDay(data: pd.DataFrame, **kwargs):\n",
    "\n",
    "    r_named_list = bridge.iglu_r.CGMS2DayByDay(data, **kwargs)\n",
    "\n",
    "    result = {\n",
    "        name: ro.conversion.rpy2py(r_named_list[i])\n",
    "            for i, name in enumerate(r_named_list.names())\n",
    "    }\n",
    "\n",
    "    result['actual_dates'] = [pd.to_datetime(d, unit='D', origin='1970-01-01') for d in result['actual_dates']]\n",
    "    result['dt0'] = result['dt0'][0]\n",
    "\n",
    "    return result\n"
   ]
  },
  {
   "cell_type": "markdown",
   "metadata": {},
   "source": [
    "Use a very simple test data - 4 measurements every 5 min , starting at midnight."
   ]
  },
  {
   "cell_type": "code",
   "execution_count": 22,
   "metadata": {},
   "outputs": [
    {
     "data": {
      "text/html": [
       "<div>\n",
       "<style scoped>\n",
       "    .dataframe tbody tr th:only-of-type {\n",
       "        vertical-align: middle;\n",
       "    }\n",
       "\n",
       "    .dataframe tbody tr th {\n",
       "        vertical-align: top;\n",
       "    }\n",
       "\n",
       "    .dataframe thead th {\n",
       "        text-align: right;\n",
       "    }\n",
       "</style>\n",
       "<table border=\"1\" class=\"dataframe\">\n",
       "  <thead>\n",
       "    <tr style=\"text-align: right;\">\n",
       "      <th></th>\n",
       "      <th>id</th>\n",
       "      <th>time</th>\n",
       "      <th>gl</th>\n",
       "    </tr>\n",
       "  </thead>\n",
       "  <tbody>\n",
       "    <tr>\n",
       "      <th>0</th>\n",
       "      <td>subject1</td>\n",
       "      <td>2020-01-01 00:00:00</td>\n",
       "      <td>150</td>\n",
       "    </tr>\n",
       "    <tr>\n",
       "      <th>1</th>\n",
       "      <td>subject1</td>\n",
       "      <td>2020-01-01 00:05:00</td>\n",
       "      <td>155</td>\n",
       "    </tr>\n",
       "    <tr>\n",
       "      <th>2</th>\n",
       "      <td>subject1</td>\n",
       "      <td>2020-01-01 00:10:00</td>\n",
       "      <td>160</td>\n",
       "    </tr>\n",
       "    <tr>\n",
       "      <th>3</th>\n",
       "      <td>subject1</td>\n",
       "      <td>2020-01-01 00:15:00</td>\n",
       "      <td>165</td>\n",
       "    </tr>\n",
       "  </tbody>\n",
       "</table>\n",
       "</div>"
      ],
      "text/plain": [
       "         id                time   gl\n",
       "0  subject1 2020-01-01 00:00:00  150\n",
       "1  subject1 2020-01-01 00:05:00  155\n",
       "2  subject1 2020-01-01 00:10:00  160\n",
       "3  subject1 2020-01-01 00:15:00  165"
      ]
     },
     "metadata": {},
     "output_type": "display_data"
    }
   ],
   "source": [
    "data = pd.DataFrame({\n",
    "    'id': ['subject1', 'subject1', 'subject1', 'subject1'],\n",
    "    'time': pd.to_datetime([\n",
    "        '2020-01-01 00:00:00',  # 0 min\n",
    "        '2020-01-01 00:05:00',  # 5 min\n",
    "        '2020-01-01 00:10:00',  # 10 min\n",
    "        '2020-01-01 00:15:00',  # 15 min\n",
    "    ]),\n",
    "    'gl': [150, 155, 160, 165]\n",
    "})\n",
    "display(data)"
   ]
  },
  {
   "cell_type": "markdown",
   "metadata": {},
   "source": [
    "It is expected that CGMS2DayByDay returns a 288 measurements for a single day - 4 measurements from input DataFrame ( as it timed exactly to interpolation grid), followed by 284 nan values"
   ]
  },
  {
   "cell_type": "code",
   "execution_count": 27,
   "metadata": {},
   "outputs": [
    {
     "name": "stdout",
     "output_type": "stream",
     "text": [
      "(2, 288)\n",
      "[Timestamp('2020-01-01 00:00:00'), Timestamp('2020-01-02 00:00:00')]\n",
      "5.0\n",
      "[[155. 160. 165.  nan  nan]\n",
      " [ nan  nan  nan  nan  nan]]\n"
     ]
    }
   ],
   "source": [
    "r_result = my_CGMS2DayByDay(data)\n",
    "\n",
    "gd2d = r_result['gd2d']\n",
    "actual_dates = r_result['actual_dates']\n",
    "dt0 = r_result['dt0']\n",
    "\n",
    "print(gd2d.shape)       # expected (1,288)\n",
    "print(actual_dates)     # expected [datetime.date(2020, 1, 1)]\n",
    "print(dt0)              # expected 5\n",
    "\n",
    "print(gd2d[:,0:5])      # expected [[150. 155. 160. 165. nan]]\n",
    "\n",
    "\n",
    "\n"
   ]
  },
  {
   "cell_type": "code",
   "execution_count": 28,
   "metadata": {},
   "outputs": [
    {
     "name": "stdout",
     "output_type": "stream",
     "text": [
      "(2, 288)\n",
      "[Timestamp('2019-12-31 00:00:00'), Timestamp('2020-01-01 00:00:00')]\n",
      "5.0\n",
      "[[155. 160. 165.  nan  nan]\n",
      " [ nan  nan  nan  nan  nan]]\n"
     ]
    }
   ],
   "source": [
    "r_result = my_CGMS2DayByDay(data,tz=\"UTC\")\n",
    "\n",
    "gd2d = r_result['gd2d']\n",
    "actual_dates = r_result['actual_dates']\n",
    "dt0 = r_result['dt0']\n",
    "\n",
    "print(gd2d.shape)       # expected (1,288)\n",
    "print(actual_dates)     # expected [datetime.date(2020, 1, 1)]\n",
    "print(dt0)              # expected 5\n",
    "\n",
    "print(gd2d[:,0:5])      # expected [[150. 155. 160. 165. nan]]"
   ]
  },
  {
   "cell_type": "markdown",
   "metadata": {},
   "source": [
    "Lets try with a 4 measurement at 10am. On 5 min grid, 10am measurement has to be 10*(60/5)=120 position. "
   ]
  },
  {
   "cell_type": "code",
   "execution_count": 29,
   "metadata": {},
   "outputs": [
    {
     "data": {
      "text/html": [
       "<div>\n",
       "<style scoped>\n",
       "    .dataframe tbody tr th:only-of-type {\n",
       "        vertical-align: middle;\n",
       "    }\n",
       "\n",
       "    .dataframe tbody tr th {\n",
       "        vertical-align: top;\n",
       "    }\n",
       "\n",
       "    .dataframe thead th {\n",
       "        text-align: right;\n",
       "    }\n",
       "</style>\n",
       "<table border=\"1\" class=\"dataframe\">\n",
       "  <thead>\n",
       "    <tr style=\"text-align: right;\">\n",
       "      <th></th>\n",
       "      <th>id</th>\n",
       "      <th>time</th>\n",
       "      <th>gl</th>\n",
       "    </tr>\n",
       "  </thead>\n",
       "  <tbody>\n",
       "    <tr>\n",
       "      <th>0</th>\n",
       "      <td>subject1</td>\n",
       "      <td>2020-01-01 10:00:00</td>\n",
       "      <td>150</td>\n",
       "    </tr>\n",
       "    <tr>\n",
       "      <th>1</th>\n",
       "      <td>subject1</td>\n",
       "      <td>2020-01-01 10:05:00</td>\n",
       "      <td>155</td>\n",
       "    </tr>\n",
       "    <tr>\n",
       "      <th>2</th>\n",
       "      <td>subject1</td>\n",
       "      <td>2020-01-01 10:10:00</td>\n",
       "      <td>160</td>\n",
       "    </tr>\n",
       "    <tr>\n",
       "      <th>3</th>\n",
       "      <td>subject1</td>\n",
       "      <td>2020-01-01 10:15:00</td>\n",
       "      <td>165</td>\n",
       "    </tr>\n",
       "  </tbody>\n",
       "</table>\n",
       "</div>"
      ],
      "text/plain": [
       "         id                time   gl\n",
       "0  subject1 2020-01-01 10:00:00  150\n",
       "1  subject1 2020-01-01 10:05:00  155\n",
       "2  subject1 2020-01-01 10:10:00  160\n",
       "3  subject1 2020-01-01 10:15:00  165"
      ]
     },
     "metadata": {},
     "output_type": "display_data"
    }
   ],
   "source": [
    "data = pd.DataFrame({\n",
    "    'id': ['subject1', 'subject1', 'subject1', 'subject1'],\n",
    "    'time': pd.to_datetime([\n",
    "        '2020-01-01 10:00:00',  # 0 min\n",
    "        '2020-01-01 10:05:00',  # 5 min\n",
    "        '2020-01-01 10:10:00',  # 10 min\n",
    "        '2020-01-01 10:15:00',  # 15 min\n",
    "    ]),\n",
    "    'gl': [150, 155, 160, 165]\n",
    "})\n",
    "display(data)"
   ]
  },
  {
   "cell_type": "code",
   "execution_count": 35,
   "metadata": {},
   "outputs": [
    {
     "name": "stdout",
     "output_type": "stream",
     "text": [
      "(2, 288)\n",
      "[Timestamp('2020-01-01 00:00:00'), Timestamp('2020-01-02 00:00:00')]\n",
      "5.0\n",
      "120\n",
      "[[155. 160. 165.  nan  nan  nan]\n",
      " [ nan  nan  nan  nan  nan  nan]]\n",
      "[[150. 155. 160. 165.  nan  nan]\n",
      " [ nan  nan  nan  nan  nan  nan]]\n"
     ]
    }
   ],
   "source": [
    "r_result = my_CGMS2DayByDay(data)\n",
    "\n",
    "gd2d = r_result['gd2d']\n",
    "actual_dates = r_result['actual_dates']\n",
    "dt0 = r_result['dt0']\n",
    "\n",
    "print(gd2d.shape)       # expected (1,288)\n",
    "print(actual_dates)     # expected [datetime.date(2020, 1, 1)]\n",
    "print(dt0)              # expected 5\n",
    "\n",
    "indx_10am = int((60/dt0) * 10)\n",
    "print(indx_10am)\n",
    "print(gd2d[:,indx_10am:indx_10am+6])      # expected [[ 150. 155. 160. 165.  nan  nan]\n",
    "print(gd2d[:,indx_10am-1:indx_10am+5])    # but we'll get expected on one position left\n"
   ]
  },
  {
   "cell_type": "markdown",
   "metadata": {},
   "source": [
    "Lets look now on data that spans two consecutive days"
   ]
  },
  {
   "cell_type": "code",
   "execution_count": 47,
   "metadata": {},
   "outputs": [
    {
     "data": {
      "text/html": [
       "<div>\n",
       "<style scoped>\n",
       "    .dataframe tbody tr th:only-of-type {\n",
       "        vertical-align: middle;\n",
       "    }\n",
       "\n",
       "    .dataframe tbody tr th {\n",
       "        vertical-align: top;\n",
       "    }\n",
       "\n",
       "    .dataframe thead th {\n",
       "        text-align: right;\n",
       "    }\n",
       "</style>\n",
       "<table border=\"1\" class=\"dataframe\">\n",
       "  <thead>\n",
       "    <tr style=\"text-align: right;\">\n",
       "      <th></th>\n",
       "      <th>id</th>\n",
       "      <th>time</th>\n",
       "      <th>gl</th>\n",
       "    </tr>\n",
       "  </thead>\n",
       "  <tbody>\n",
       "    <tr>\n",
       "      <th>0</th>\n",
       "      <td>subject1</td>\n",
       "      <td>2020-01-01 00:00:00</td>\n",
       "      <td>150</td>\n",
       "    </tr>\n",
       "    <tr>\n",
       "      <th>1</th>\n",
       "      <td>subject1</td>\n",
       "      <td>2020-01-01 00:05:00</td>\n",
       "      <td>155</td>\n",
       "    </tr>\n",
       "    <tr>\n",
       "      <th>2</th>\n",
       "      <td>subject1</td>\n",
       "      <td>2020-01-01 00:10:00</td>\n",
       "      <td>160</td>\n",
       "    </tr>\n",
       "    <tr>\n",
       "      <th>3</th>\n",
       "      <td>subject1</td>\n",
       "      <td>2020-01-01 00:15:00</td>\n",
       "      <td>165</td>\n",
       "    </tr>\n",
       "    <tr>\n",
       "      <th>4</th>\n",
       "      <td>subject1</td>\n",
       "      <td>2020-01-02 00:00:00</td>\n",
       "      <td>150</td>\n",
       "    </tr>\n",
       "    <tr>\n",
       "      <th>5</th>\n",
       "      <td>subject1</td>\n",
       "      <td>2020-01-02 00:05:00</td>\n",
       "      <td>155</td>\n",
       "    </tr>\n",
       "    <tr>\n",
       "      <th>6</th>\n",
       "      <td>subject1</td>\n",
       "      <td>2020-01-02 00:10:00</td>\n",
       "      <td>160</td>\n",
       "    </tr>\n",
       "    <tr>\n",
       "      <th>7</th>\n",
       "      <td>subject1</td>\n",
       "      <td>2020-01-02 00:15:00</td>\n",
       "      <td>165</td>\n",
       "    </tr>\n",
       "  </tbody>\n",
       "</table>\n",
       "</div>"
      ],
      "text/plain": [
       "         id                time   gl\n",
       "0  subject1 2020-01-01 00:00:00  150\n",
       "1  subject1 2020-01-01 00:05:00  155\n",
       "2  subject1 2020-01-01 00:10:00  160\n",
       "3  subject1 2020-01-01 00:15:00  165\n",
       "4  subject1 2020-01-02 00:00:00  150\n",
       "5  subject1 2020-01-02 00:05:00  155\n",
       "6  subject1 2020-01-02 00:10:00  160\n",
       "7  subject1 2020-01-02 00:15:00  165"
      ]
     },
     "metadata": {},
     "output_type": "display_data"
    }
   ],
   "source": [
    "data = pd.DataFrame({\n",
    "    'id': ['subject1']*8,\n",
    "    'time': pd.to_datetime([\n",
    "        '2020-01-01 00:00:00',  # 0 min\n",
    "        '2020-01-01 00:05:00',  # 5 min\n",
    "        '2020-01-01 00:10:00',  # 10 min\n",
    "        '2020-01-01 00:15:00',  # 15 min\n",
    "        '2020-01-02 00:00:00',  # 0 min\n",
    "        '2020-01-02 00:05:00',  # 5 min\n",
    "        '2020-01-02 00:10:00',  # 10 min\n",
    "        '2020-01-02 00:15:00',  # 15 min\n",
    "    ]),\n",
    "    'gl': [150, 155, 160, 165]*2\n",
    "})\n",
    "display(data)"
   ]
  },
  {
   "cell_type": "code",
   "execution_count": 48,
   "metadata": {},
   "outputs": [
    {
     "name": "stdout",
     "output_type": "stream",
     "text": [
      "(3, 288)\n",
      "[Timestamp('2019-12-31 00:00:00'), Timestamp('2020-01-01 00:00:00'), Timestamp('2020-01-02 00:00:00')]\n",
      "5.0\n",
      "[[155. 160. 165.  nan  nan]\n",
      " [155. 160. 165.  nan  nan]\n",
      " [ nan  nan  nan  nan  nan]]\n"
     ]
    }
   ],
   "source": [
    "r_result = my_CGMS2DayByDay(data,tz=\"UTC\")\n",
    "\n",
    "gd2d = r_result['gd2d']\n",
    "actual_dates = r_result['actual_dates']\n",
    "dt0 = r_result['dt0']\n",
    "\n",
    "print(gd2d.shape)       # expected (1,288)\n",
    "print(actual_dates)     # expected [datetime.date(2020, 1, 1)]\n",
    "print(dt0)              # expected 5\n",
    "\n",
    "print(gd2d[:,0:5])      # expected [[150. 155. 160. 165. nan]]"
   ]
  },
  {
   "cell_type": "markdown",
   "metadata": {},
   "source": [
    "Lets test two-days records that cross over midnight  "
   ]
  },
  {
   "cell_type": "code",
   "execution_count": 49,
   "metadata": {},
   "outputs": [
    {
     "data": {
      "text/html": [
       "<div>\n",
       "<style scoped>\n",
       "    .dataframe tbody tr th:only-of-type {\n",
       "        vertical-align: middle;\n",
       "    }\n",
       "\n",
       "    .dataframe tbody tr th {\n",
       "        vertical-align: top;\n",
       "    }\n",
       "\n",
       "    .dataframe thead th {\n",
       "        text-align: right;\n",
       "    }\n",
       "</style>\n",
       "<table border=\"1\" class=\"dataframe\">\n",
       "  <thead>\n",
       "    <tr style=\"text-align: right;\">\n",
       "      <th></th>\n",
       "      <th>id</th>\n",
       "      <th>time</th>\n",
       "      <th>gl</th>\n",
       "    </tr>\n",
       "  </thead>\n",
       "  <tbody>\n",
       "    <tr>\n",
       "      <th>0</th>\n",
       "      <td>subject1</td>\n",
       "      <td>2020-01-01 23:40:00</td>\n",
       "      <td>150</td>\n",
       "    </tr>\n",
       "    <tr>\n",
       "      <th>1</th>\n",
       "      <td>subject1</td>\n",
       "      <td>2020-01-01 23:45:00</td>\n",
       "      <td>155</td>\n",
       "    </tr>\n",
       "    <tr>\n",
       "      <th>2</th>\n",
       "      <td>subject1</td>\n",
       "      <td>2020-01-01 23:50:00</td>\n",
       "      <td>160</td>\n",
       "    </tr>\n",
       "    <tr>\n",
       "      <th>3</th>\n",
       "      <td>subject1</td>\n",
       "      <td>2020-01-01 23:55:00</td>\n",
       "      <td>165</td>\n",
       "    </tr>\n",
       "    <tr>\n",
       "      <th>4</th>\n",
       "      <td>subject1</td>\n",
       "      <td>2020-01-02 00:00:00</td>\n",
       "      <td>170</td>\n",
       "    </tr>\n",
       "    <tr>\n",
       "      <th>5</th>\n",
       "      <td>subject1</td>\n",
       "      <td>2020-01-02 00:05:00</td>\n",
       "      <td>175</td>\n",
       "    </tr>\n",
       "    <tr>\n",
       "      <th>6</th>\n",
       "      <td>subject1</td>\n",
       "      <td>2020-01-02 00:10:00</td>\n",
       "      <td>180</td>\n",
       "    </tr>\n",
       "    <tr>\n",
       "      <th>7</th>\n",
       "      <td>subject1</td>\n",
       "      <td>2020-01-02 00:15:00</td>\n",
       "      <td>185</td>\n",
       "    </tr>\n",
       "  </tbody>\n",
       "</table>\n",
       "</div>"
      ],
      "text/plain": [
       "         id                time   gl\n",
       "0  subject1 2020-01-01 23:40:00  150\n",
       "1  subject1 2020-01-01 23:45:00  155\n",
       "2  subject1 2020-01-01 23:50:00  160\n",
       "3  subject1 2020-01-01 23:55:00  165\n",
       "4  subject1 2020-01-02 00:00:00  170\n",
       "5  subject1 2020-01-02 00:05:00  175\n",
       "6  subject1 2020-01-02 00:10:00  180\n",
       "7  subject1 2020-01-02 00:15:00  185"
      ]
     },
     "metadata": {},
     "output_type": "display_data"
    }
   ],
   "source": [
    "data = pd.DataFrame({\n",
    "    'id': ['subject1']*8,\n",
    "    'time': pd.to_datetime([\n",
    "        '2020-01-01 23:40:00',  # 0 min\n",
    "        '2020-01-01 23:45:00',  # 5 min\n",
    "        '2020-01-01 23:50:00',  # 10 min\n",
    "        '2020-01-01 23:55:00',  # 15 min\n",
    "        '2020-01-02 00:00:00',  # 0 min\n",
    "        '2020-01-02 00:05:00',  # 5 min\n",
    "        '2020-01-02 00:10:00',  # 10 min\n",
    "        '2020-01-02 00:15:00',  # 15 min\n",
    "    ]),\n",
    "    'gl': [150, 155, 160, 165, 170, 175, 180, 185]\n",
    "})\n",
    "display(data)"
   ]
  },
  {
   "cell_type": "code",
   "execution_count": 50,
   "metadata": {},
   "outputs": [
    {
     "name": "stdout",
     "output_type": "stream",
     "text": [
      "(2, 288)\n",
      "[Timestamp('2019-12-31 00:00:00'), Timestamp('2020-01-01 00:00:00')]\n",
      "5.0\n",
      "[[ nan  nan  nan  nan  nan]\n",
      " [175. 180. 185.  nan  nan]]\n"
     ]
    }
   ],
   "source": [
    "r_result = my_CGMS2DayByDay(data,tz=\"UTC\")\n",
    "\n",
    "gd2d = r_result['gd2d']\n",
    "actual_dates = r_result['actual_dates']\n",
    "dt0 = r_result['dt0']\n",
    "\n",
    "print(gd2d.shape)       # expected (1,288)\n",
    "print(actual_dates)     # expected [datetime.date(2020, 1, 1)]\n",
    "print(dt0)              # expected 5\n",
    "\n",
    "print(gd2d[:,0:5])      # expected [[150. 155. 160. 165. nan]]"
   ]
  },
  {
   "cell_type": "code",
   "execution_count": null,
   "metadata": {},
   "outputs": [],
   "source": []
  },
  {
   "cell_type": "markdown",
   "metadata": {},
   "source": [
    "# check_data_columns"
   ]
  },
  {
   "cell_type": "code",
   "execution_count": 18,
   "metadata": {},
   "outputs": [],
   "source": [
    "@bridge.df_conversion\n",
    "def my_check_data_columns(data: pd.DataFrame, **kwargs):\n",
    "\n",
    "   return bridge.iglu_r.check_data_columns(data, **kwargs)\n"
   ]
  },
  {
   "cell_type": "code",
   "execution_count": 44,
   "metadata": {},
   "outputs": [
    {
     "name": "stdout",
     "output_type": "stream",
     "text": [
      "         id                      time   gl\n",
      "0  subject1 2020-01-01 00:00:00+02:00  150\n",
      "1  subject1 2020-01-01 00:05:00+02:00  155\n",
      "2  subject1 2020-01-01 00:10:00+02:00  160\n",
      "3  subject1 2020-01-01 00:15:00+02:00  165\n"
     ]
    }
   ],
   "source": [
    "data = pd.DataFrame({\n",
    "    'id': ['subject1', 'subject1', 'subject1', 'subject1'],\n",
    "    'time': pd.to_datetime([\n",
    "        '2020-01-01 00:00:00',  # 0 min\n",
    "        '2020-01-01 00:05:00',  # 5 min\n",
    "        '2020-01-01 00:10:00',  # 10 min\n",
    "        '2020-01-01 00:15:00',  # 15 min\n",
    "    ]),\n",
    "    'gl': [150, 155, 160, 165]\n",
    "})\n",
    "\n",
    "r_result = my_check_data_columns(data,tz=\"UTC\")\n",
    "\n",
    "print(r_result)"
   ]
  },
  {
   "cell_type": "code",
   "execution_count": 19,
   "metadata": {},
   "outputs": [
    {
     "name": "stdout",
     "output_type": "stream",
     "text": [
      "         id                      time   gl\n",
      "0  subject1 2020-01-01 00:00:00+02:00  150\n",
      "1  subject1 2020-01-01 00:05:00+02:00  155\n",
      "2  subject1 2020-01-01 00:10:00+02:00  160\n",
      "3  subject1 2020-01-01 00:15:00+02:00  165\n"
     ]
    }
   ],
   "source": [
    "data = pd.DataFrame({\n",
    "    'id': ['subject1', 'subject1', 'subject1', 'subject1'],\n",
    "    'time': pd.to_datetime([\n",
    "        '2020-01-01 00:00:00',  # 0 min\n",
    "        '2020-01-01 00:05:00',  # 5 min\n",
    "        '2020-01-01 00:10:00',  # 10 min\n",
    "        '2020-01-01 00:15:00',  # 15 min\n",
    "    ]),\n",
    "    'gl': [150, 155, 160, 165]\n",
    "})\n",
    "\n",
    "r_result = my_check_data_columns(data,tz=\"UTC\")\n",
    "\n",
    "print(r_result)"
   ]
  },
  {
   "cell_type": "code",
   "execution_count": 45,
   "metadata": {},
   "outputs": [
    {
     "name": "stdout",
     "output_type": "stream",
     "text": [
      "         id                      time   gl\n",
      "1  subject1 2020-01-01 00:00:00+02:00  150\n",
      "2  subject1 2020-01-01 00:05:00+02:00  155\n",
      "3  subject1 2020-01-01 00:10:00+02:00  160\n",
      "4  subject1 2020-01-01 00:15:00+02:00  165\n"
     ]
    }
   ],
   "source": [
    "data = pd.DataFrame({\n",
    "    'id': ['subject1', 'subject1', 'subject1', 'subject1'],\n",
    "    'time': pd.to_datetime([\n",
    "        '2020-01-01 00:00:00',  # 0 min\n",
    "        '2020-01-01 00:05:00',  # 5 min\n",
    "        '2020-01-01 00:10:00',  # 10 min\n",
    "        '2020-01-01 00:15:00',  # 15 min\n",
    "    ]),\n",
    "    'gl': [150, 155, 160, 165]\n",
    "})\n",
    "\n",
    "r_result = my_check_data_columns(data,time_check=True,tz=\"UTC\")\n",
    "\n",
    "print(r_result)"
   ]
  }
 ],
 "metadata": {
  "kernelspec": {
   "display_name": ".venv",
   "language": "python",
   "name": "python3"
  },
  "language_info": {
   "codemirror_mode": {
    "name": "ipython",
    "version": 3
   },
   "file_extension": ".py",
   "mimetype": "text/x-python",
   "name": "python",
   "nbconvert_exporter": "python",
   "pygments_lexer": "ipython3",
   "version": "3.11.10"
  }
 },
 "nbformat": 4,
 "nbformat_minor": 2
}
